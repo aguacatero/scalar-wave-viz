{
 "cells": [
  {
   "cell_type": "code",
   "execution_count": 7,
   "id": "ecd9cbb1-c063-4259-af3c-00ebc6ce1277",
   "metadata": {},
   "outputs": [],
   "source": [
    "import numpy as np\n",
    "import matplotlib.pyplot as plt\n",
    "from matplotlib.animation import FuncAnimation\n",
    "from ipywidgets import interact, FloatSlider"
   ]
  },
  {
   "cell_type": "code",
   "execution_count": 8,
   "id": "9818a586-1599-42f9-9573-bdf1ee760657",
   "metadata": {},
   "outputs": [],
   "source": [
    "def run_wave(E0=1.0, B0=0.5, phase_offset=np.pi/2):\n",
    "    x = np.linspace(0, 10, 500)\n",
    "    k = 2 * np.pi / 10\n",
    "    ω = 2 * np.pi / 5\n",
    "\n",
    "    fig, ax = plt.subplots()\n",
    "    lineE, = ax.plot(x, E0 * np.cos(k*x), label=\"E‑field\")\n",
    "    lineB, = ax.plot(x, B0 * np.cos(k*x + phase_offset),\n",
    "                     linestyle=\"--\", label=\"B‑field\")\n",
    "    ax.set_ylim(-1.5, 1.5)\n",
    "    ax.set_xlabel(\"x\")\n",
    "    ax.set_ylabel(\"Amplitude\")\n",
    "    ax.legend()\n",
    "\n",
    "    def update(frame):\n",
    "        t = frame / 20.0\n",
    "        lineE.set_ydata(E0 * np.cos(k*x - ω*t))\n",
    "        lineB.set_ydata(B0 * np.cos(k*x - ω*t + phase_offset))\n",
    "        return lineE, lineB\n",
    "\n",
    "    ani = FuncAnimation(fig, update, frames=200, interval=50)\n",
    "    plt.show()"
   ]
  },
  {
   "cell_type": "code",
   "execution_count": 9,
   "id": "143a9ae0-a2c4-499a-8c23-968461efdc5b",
   "metadata": {},
   "outputs": [
    {
     "data": {
      "application/vnd.jupyter.widget-view+json": {
       "model_id": "18f83b75c93347efa13f1004db7023d4",
       "version_major": 2,
       "version_minor": 0
      },
      "text/plain": [
       "interactive(children=(FloatSlider(value=1.0, description='E0', max=2.0), FloatSlider(value=0.5, description='B…"
      ]
     },
     "metadata": {},
     "output_type": "display_data"
    },
    {
     "data": {
      "text/plain": [
       "<function __main__.run_wave(E0=1.0, B0=0.5, phase_offset=1.5707963267948966)>"
      ]
     },
     "execution_count": 9,
     "metadata": {},
     "output_type": "execute_result"
    }
   ],
   "source": [
    "interact(\n",
    "    run_wave,\n",
    "    E0=FloatSlider(min=0.0, max=2.0, step=0.1, value=1.0, description=\"E0\"),\n",
    "    B0=FloatSlider(min=0.0, max=2.0, step=0.1, value=0.5, description=\"B0\"),\n",
    "    phase_offset=FloatSlider(min=0, max=2*np.pi, step=0.1,\n",
    "                             value=np.pi/2, description=\"Phase\")\n",
    ")"
   ]
  },
  {
   "cell_type": "code",
   "execution_count": 10,
   "id": "b6a0b245-08cc-4b72-b891-ac66421d4a5e",
   "metadata": {},
   "outputs": [],
   "source": [
    "Nx = 300\n",
    "dx = 1.0\n",
    "c  = 1.0\n",
    "dt = dx / (2 * c)\n",
    "\n",
    "Ez = np.zeros(Nx)\n",
    "Hy = np.zeros(Nx)\n",
    "\n",
    "source_position = Nx // 3"
   ]
  },
  {
   "cell_type": "code",
   "execution_count": 11,
   "id": "bc45a78d-b07c-4ad4-afef-1f4339b3e7da",
   "metadata": {},
   "outputs": [
    {
     "data": {
      "text/plain": [
       "<matplotlib.legend.Legend at 0x7ebac0020d00>"
      ]
     },
     "execution_count": 11,
     "metadata": {},
     "output_type": "execute_result"
    },
    {
     "data": {
      "image/png": "[encoded data removed]",
      "text/plain": [
       "<Figure size 640x480 with 1 Axes>"
      ]
     },
     "metadata": {},
     "output_type": "display_data"
    }
   ],
   "source": [
    "fig_fdtd, ax_fdtd = plt.subplots()\n",
    "lineE_fdtd, = ax_fdtd.plot(Ez, label=\"Ez\")\n",
    "lineH_fdtd, = ax_fdtd.plot(Hy, label=\"Hy\", linestyle=\"--\")\n",
    "ax_fdtd.set_ylim(-1.2, 1.2)\n",
    "ax_fdtd.set_xlim(0, Nx)\n",
    "ax_fdtd.set_xlabel(\"Grid index\")\n",
    "ax_fdtd.set_ylabel(\"Field\")\n",
    "ax_fdtd.legend()"
   ]
  },
  {
   "cell_type": "code",
   "execution_count": 12,
   "id": "71b20b6b-1672-4bd5-a138-d7c246141035",
   "metadata": {},
   "outputs": [],
   "source": [
    "def update_fdtd(n, Ez, Hy, source_pos, dt, dx):\n",
    "    for i in range(Nx - 1):\n",
    "        Hy[i] += (dt / dx) * (Ez[i+1] - Ez[i])\n",
    "    for i in range(1, Nx):\n",
    "        Ez[i] += (dt / dx) * (Hy[i] - Hy[i-1])\n",
    "    Ez[source_pos] += np.sin(2 * np.pi * 0.02 * n)\n",
    "    lineE_fdtd.set_ydata(Ez)\n",
    "    lineH_fdtd.set_ydata(Hy)\n",
    "    return lineE_fdtd, lineH_fdtd\n",
    "\n",
    "ani_fdtd = FuncAnimation(\n",
    "    fig_fdtd,\n",
    "    update_fdtd,\n",
    "    fargs=(Ez, Hy, source_position, dt, dx),\n",
    "    frames=500,\n",
    "    interval=20\n",
    ")\n",
    "plt.show()"
   ]
  }
 ],
 "metadata": {
  "kernelspec": {
   "display_name": "Python 3 (ipykernel)",
   "language": "python",
   "name": "python3"
  },
  "language_info": {
   "codemirror_mode": {
    "name": "ipython",
    "version": 3
   },
   "file_extension": ".py",
   "mimetype": "text/x-python",
   "name": "python",
   "nbconvert_exporter": "python",
   "pygments_lexer": "ipython3",
   "version": "3.10.16"
  }
 },
 "nbformat": 4,
 "nbformat_minor": 5
}
