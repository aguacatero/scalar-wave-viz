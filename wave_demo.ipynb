{
 "cells": [
  {
   "cell_type": "code",
   "execution_count": 34,
   "id": "47745d46-5799-45ca-ac76-7d57446479c2",
   "metadata": {},
   "outputs": [
    {
     "ename": "RuntimeError",
     "evalue": "'widget is not a recognised GUI loop or backend name",
     "output_type": "error",
     "traceback": [
      "\u001b[0;31m---------------------------------------------------------------------------\u001b[0m",
      "\u001b[0;31mRuntimeError\u001b[0m                              Traceback (most recent call last)",
      "File \u001b[0;32m/srv/conda/envs/notebook/lib/python3.10/site-packages/matplotlib/backends/registry.py:407\u001b[0m, in \u001b[0;36mBackendRegistry.resolve_gui_or_backend\u001b[0;34m(self, gui_or_backend)\u001b[0m\n\u001b[1;32m    406\u001b[0m \u001b[38;5;28;01mtry\u001b[39;00m:\n\u001b[0;32m--> 407\u001b[0m     \u001b[38;5;28;01mreturn\u001b[39;00m \u001b[38;5;28;43mself\u001b[39;49m\u001b[38;5;241;43m.\u001b[39;49m\u001b[43mresolve_backend\u001b[49m\u001b[43m(\u001b[49m\u001b[43mgui_or_backend\u001b[49m\u001b[43m)\u001b[49m\n\u001b[1;32m    408\u001b[0m \u001b[38;5;28;01mexcept\u001b[39;00m \u001b[38;5;167;01mException\u001b[39;00m:  \u001b[38;5;66;03m# KeyError ?\u001b[39;00m\n",
      "File \u001b[0;32m/srv/conda/envs/notebook/lib/python3.10/site-packages/matplotlib/backends/registry.py:369\u001b[0m, in \u001b[0;36mBackendRegistry.resolve_backend\u001b[0;34m(self, backend)\u001b[0m\n\u001b[1;32m    368\u001b[0m \u001b[38;5;28;01mif\u001b[39;00m gui \u001b[38;5;129;01mis\u001b[39;00m \u001b[38;5;28;01mNone\u001b[39;00m:\n\u001b[0;32m--> 369\u001b[0m     \u001b[38;5;28;01mraise\u001b[39;00m \u001b[38;5;167;01mRuntimeError\u001b[39;00m(\u001b[38;5;124mf\u001b[39m\u001b[38;5;124m\"\u001b[39m\u001b[38;5;124m'\u001b[39m\u001b[38;5;132;01m{\u001b[39;00mbackend\u001b[38;5;132;01m}\u001b[39;00m\u001b[38;5;124m'\u001b[39m\u001b[38;5;124m is not a recognised backend name\u001b[39m\u001b[38;5;124m\"\u001b[39m)\n\u001b[1;32m    371\u001b[0m \u001b[38;5;28;01mreturn\u001b[39;00m backend, gui \u001b[38;5;28;01mif\u001b[39;00m gui \u001b[38;5;241m!=\u001b[39m \u001b[38;5;124m\"\u001b[39m\u001b[38;5;124mheadless\u001b[39m\u001b[38;5;124m\"\u001b[39m \u001b[38;5;28;01melse\u001b[39;00m \u001b[38;5;28;01mNone\u001b[39;00m\n",
      "\u001b[0;31mRuntimeError\u001b[0m: 'widget' is not a recognised backend name",
      "\nDuring handling of the above exception, another exception occurred:\n",
      "\u001b[0;31mRuntimeError\u001b[0m                              Traceback (most recent call last)",
      "Cell \u001b[0;32mIn[34], line 2\u001b[0m\n\u001b[1;32m      1\u001b[0m \u001b[38;5;66;03m# Cell 1: Enable interactive matplotlib backend\u001b[39;00m\n\u001b[0;32m----> 2\u001b[0m \u001b[43mget_ipython\u001b[49m\u001b[43m(\u001b[49m\u001b[43m)\u001b[49m\u001b[38;5;241;43m.\u001b[39;49m\u001b[43mrun_line_magic\u001b[49m\u001b[43m(\u001b[49m\u001b[38;5;124;43m'\u001b[39;49m\u001b[38;5;124;43mmatplotlib\u001b[39;49m\u001b[38;5;124;43m'\u001b[39;49m\u001b[43m,\u001b[49m\u001b[43m \u001b[49m\u001b[38;5;124;43m'\u001b[39;49m\u001b[38;5;124;43mwidget\u001b[39;49m\u001b[38;5;124;43m'\u001b[39;49m\u001b[43m)\u001b[49m\n",
      "File \u001b[0;32m/srv/conda/envs/notebook/lib/python3.10/site-packages/IPython/core/interactiveshell.py:2482\u001b[0m, in \u001b[0;36mInteractiveShell.run_line_magic\u001b[0;34m(self, magic_name, line, _stack_depth)\u001b[0m\n\u001b[1;32m   2480\u001b[0m     kwargs[\u001b[38;5;124m'\u001b[39m\u001b[38;5;124mlocal_ns\u001b[39m\u001b[38;5;124m'\u001b[39m] \u001b[38;5;241m=\u001b[39m \u001b[38;5;28mself\u001b[39m\u001b[38;5;241m.\u001b[39mget_local_scope(stack_depth)\n\u001b[1;32m   2481\u001b[0m \u001b[38;5;28;01mwith\u001b[39;00m \u001b[38;5;28mself\u001b[39m\u001b[38;5;241m.\u001b[39mbuiltin_trap:\n\u001b[0;32m-> 2482\u001b[0m     result \u001b[38;5;241m=\u001b[39m \u001b[43mfn\u001b[49m\u001b[43m(\u001b[49m\u001b[38;5;241;43m*\u001b[39;49m\u001b[43margs\u001b[49m\u001b[43m,\u001b[49m\u001b[43m \u001b[49m\u001b[38;5;241;43m*\u001b[39;49m\u001b[38;5;241;43m*\u001b[39;49m\u001b[43mkwargs\u001b[49m\u001b[43m)\u001b[49m\n\u001b[1;32m   2484\u001b[0m \u001b[38;5;66;03m# The code below prevents the output from being displayed\u001b[39;00m\n\u001b[1;32m   2485\u001b[0m \u001b[38;5;66;03m# when using magics with decorator @output_can_be_silenced\u001b[39;00m\n\u001b[1;32m   2486\u001b[0m \u001b[38;5;66;03m# when the last Python token in the expression is a ';'.\u001b[39;00m\n\u001b[1;32m   2487\u001b[0m \u001b[38;5;28;01mif\u001b[39;00m \u001b[38;5;28mgetattr\u001b[39m(fn, magic\u001b[38;5;241m.\u001b[39mMAGIC_OUTPUT_CAN_BE_SILENCED, \u001b[38;5;28;01mFalse\u001b[39;00m):\n",
      "File \u001b[0;32m/srv/conda/envs/notebook/lib/python3.10/site-packages/IPython/core/magics/pylab.py:103\u001b[0m, in \u001b[0;36mPylabMagics.matplotlib\u001b[0;34m(self, line)\u001b[0m\n\u001b[1;32m     98\u001b[0m     \u001b[38;5;28mprint\u001b[39m(\n\u001b[1;32m     99\u001b[0m         \u001b[38;5;124m\"\u001b[39m\u001b[38;5;124mAvailable matplotlib backends: \u001b[39m\u001b[38;5;132;01m%s\u001b[39;00m\u001b[38;5;124m\"\u001b[39m\n\u001b[1;32m    100\u001b[0m         \u001b[38;5;241m%\u001b[39m _list_matplotlib_backends_and_gui_loops()\n\u001b[1;32m    101\u001b[0m     )\n\u001b[1;32m    102\u001b[0m \u001b[38;5;28;01melse\u001b[39;00m:\n\u001b[0;32m--> 103\u001b[0m     gui, backend \u001b[38;5;241m=\u001b[39m \u001b[38;5;28;43mself\u001b[39;49m\u001b[38;5;241;43m.\u001b[39;49m\u001b[43mshell\u001b[49m\u001b[38;5;241;43m.\u001b[39;49m\u001b[43menable_matplotlib\u001b[49m\u001b[43m(\u001b[49m\u001b[43margs\u001b[49m\u001b[38;5;241;43m.\u001b[39;49m\u001b[43mgui\u001b[49m\u001b[43m)\u001b[49m\n\u001b[1;32m    104\u001b[0m     \u001b[38;5;28mself\u001b[39m\u001b[38;5;241m.\u001b[39m_show_matplotlib_backend(args\u001b[38;5;241m.\u001b[39mgui, backend)\n",
      "File \u001b[0;32m/srv/conda/envs/notebook/lib/python3.10/site-packages/IPython/core/interactiveshell.py:3667\u001b[0m, in \u001b[0;36mInteractiveShell.enable_matplotlib\u001b[0;34m(self, gui)\u001b[0m\n\u001b[1;32m   3664\u001b[0m     \u001b[38;5;28;01mimport\u001b[39;00m\u001b[38;5;250m \u001b[39m\u001b[38;5;21;01mmatplotlib_inline\u001b[39;00m\u001b[38;5;21;01m.\u001b[39;00m\u001b[38;5;21;01mbackend_inline\u001b[39;00m\n\u001b[1;32m   3666\u001b[0m \u001b[38;5;28;01mfrom\u001b[39;00m\u001b[38;5;250m \u001b[39m\u001b[38;5;21;01mIPython\u001b[39;00m\u001b[38;5;21;01m.\u001b[39;00m\u001b[38;5;21;01mcore\u001b[39;00m\u001b[38;5;250m \u001b[39m\u001b[38;5;28;01mimport\u001b[39;00m pylabtools \u001b[38;5;28;01mas\u001b[39;00m pt\n\u001b[0;32m-> 3667\u001b[0m gui, backend \u001b[38;5;241m=\u001b[39m \u001b[43mpt\u001b[49m\u001b[38;5;241;43m.\u001b[39;49m\u001b[43mfind_gui_and_backend\u001b[49m\u001b[43m(\u001b[49m\u001b[43mgui\u001b[49m\u001b[43m,\u001b[49m\u001b[43m \u001b[49m\u001b[38;5;28;43mself\u001b[39;49m\u001b[38;5;241;43m.\u001b[39;49m\u001b[43mpylab_gui_select\u001b[49m\u001b[43m)\u001b[49m\n\u001b[1;32m   3669\u001b[0m \u001b[38;5;28;01mif\u001b[39;00m gui \u001b[38;5;241m!=\u001b[39m \u001b[38;5;28;01mNone\u001b[39;00m:\n\u001b[1;32m   3670\u001b[0m     \u001b[38;5;66;03m# If we have our first gui selection, store it\u001b[39;00m\n\u001b[1;32m   3671\u001b[0m     \u001b[38;5;28;01mif\u001b[39;00m \u001b[38;5;28mself\u001b[39m\u001b[38;5;241m.\u001b[39mpylab_gui_select \u001b[38;5;129;01mis\u001b[39;00m \u001b[38;5;28;01mNone\u001b[39;00m:\n",
      "File \u001b[0;32m/srv/conda/envs/notebook/lib/python3.10/site-packages/IPython/core/pylabtools.py:349\u001b[0m, in \u001b[0;36mfind_gui_and_backend\u001b[0;34m(gui, gui_select)\u001b[0m\n\u001b[1;32m    347\u001b[0m \u001b[38;5;28;01melse\u001b[39;00m:\n\u001b[1;32m    348\u001b[0m     gui \u001b[38;5;241m=\u001b[39m _convert_gui_to_matplotlib(gui)\n\u001b[0;32m--> 349\u001b[0m     backend, gui \u001b[38;5;241m=\u001b[39m \u001b[43mbackend_registry\u001b[49m\u001b[38;5;241;43m.\u001b[39;49m\u001b[43mresolve_gui_or_backend\u001b[49m\u001b[43m(\u001b[49m\u001b[43mgui\u001b[49m\u001b[43m)\u001b[49m\n\u001b[1;32m    351\u001b[0m gui \u001b[38;5;241m=\u001b[39m _convert_gui_from_matplotlib(gui)\n\u001b[1;32m    352\u001b[0m \u001b[38;5;28;01mreturn\u001b[39;00m gui, backend\n",
      "File \u001b[0;32m/srv/conda/envs/notebook/lib/python3.10/site-packages/matplotlib/backends/registry.py:409\u001b[0m, in \u001b[0;36mBackendRegistry.resolve_gui_or_backend\u001b[0;34m(self, gui_or_backend)\u001b[0m\n\u001b[1;32m    407\u001b[0m     \u001b[38;5;28;01mreturn\u001b[39;00m \u001b[38;5;28mself\u001b[39m\u001b[38;5;241m.\u001b[39mresolve_backend(gui_or_backend)\n\u001b[1;32m    408\u001b[0m \u001b[38;5;28;01mexcept\u001b[39;00m \u001b[38;5;167;01mException\u001b[39;00m:  \u001b[38;5;66;03m# KeyError ?\u001b[39;00m\n\u001b[0;32m--> 409\u001b[0m     \u001b[38;5;28;01mraise\u001b[39;00m \u001b[38;5;167;01mRuntimeError\u001b[39;00m(\n\u001b[1;32m    410\u001b[0m         \u001b[38;5;124mf\u001b[39m\u001b[38;5;124m\"\u001b[39m\u001b[38;5;124m'\u001b[39m\u001b[38;5;132;01m{\u001b[39;00mgui_or_backend\u001b[38;5;132;01m}\u001b[39;00m\u001b[38;5;124m is not a recognised GUI loop or backend name\u001b[39m\u001b[38;5;124m\"\u001b[39m)\n",
      "\u001b[0;31mRuntimeError\u001b[0m: 'widget is not a recognised GUI loop or backend name"
     ]
    }
   ],
   "source": [
    "# Cell 1: Enable interactive matplotlib backend\n",
    "%matplotlib widget"
   ]
  },
  {
   "cell_type": "code",
   "execution_count": null,
   "id": "ecd9cbb1-c063-4259-af3c-00ebc6ce1277",
   "metadata": {},
   "outputs": [],
   "source": [
    "# Cell 2: Imports\n",
    "import numpy as np\n",
    "import matplotlib.pyplot as plt\n",
    "from matplotlib.animation import FuncAnimation\n",
    "from ipywidgets import interact, FloatSlider"
   ]
  },
  {
   "cell_type": "code",
   "execution_count": null,
   "id": "9818a586-1599-42f9-9573-bdf1ee760657",
   "metadata": {},
   "outputs": [],
   "source": [
    "# Cell 3: Demo A – two scalar‐field cosines (E & B) with sliders\n",
    "def run_wave(E0=1.0, B0=0.5, phase_offset=np.pi/2):\n",
    "    x = np.linspace(0, 10, 500)\n",
    "    k = 2 * np.pi / 10\n",
    "    omega = 2 * np.pi / 5\n",
    "\n",
    "    fig, ax = plt.subplots()\n",
    "    lineE, = ax.plot(x, E0 * np.cos(k*x),   label=\"E‑field\")\n",
    "    lineB, = ax.plot(x, B0 * np.cos(k*x + phase_offset),\n",
    "                     linestyle=\"--\", label=\"B‑field\")\n",
    "    ax.set_ylim(-1.5, 1.5)\n",
    "    ax.set_xlabel(\"x\")\n",
    "    ax.set_ylabel(\"Amplitude\")\n",
    "    ax.legend()\n",
    "\n",
    "    def update(frame):\n",
    "        t = frame / 20.0\n",
    "        lineE.set_ydata(E0 * np.cos(k*x - omega*t))\n",
    "        lineB.set_ydata(B0 * np.cos(k*x - omega*t + phase_offset))\n",
    "        return lineE, lineB\n",
    "\n",
    "    ani = FuncAnimation(fig, update, frames=200, interval=50)\n",
    "    return ani"
   ]
  },
  {
   "cell_type": "code",
   "execution_count": null,
   "id": "143a9ae0-a2c4-499a-8c23-968461efdc5b",
   "metadata": {
    "scrolled": true
   },
   "outputs": [],
   "source": [
    "# Cell 4: Sliders for Demo A\n",
    "interact(\n",
    "    run_wave,\n",
    "    E0=FloatSlider(min=0.0, max=2.0, step=0.1, value=1.0, description=\"E0\"),\n",
    "    B0=FloatSlider(min=0.0, max=2.0, step=0.1, value=0.5, description=\"B0\"),\n",
    "    phase_offset=FloatSlider(min=0, max=2*np.pi, step=0.1,\n",
    "                             value=np.pi/2, description=\"Phase\")\n",
    ")"
   ]
  },
  {
   "cell_type": "code",
   "execution_count": null,
   "id": "b6a0b245-08cc-4b72-b891-ac66421d4a5e",
   "metadata": {},
   "outputs": [],
   "source": [
    "# Cell 5: Demo B – 1D FDTD Maxwell Solver setup\n",
    "Nx = 300\n",
    "dx = 1.0\n",
    "c  = 1.0\n",
    "dt = dx / (2 * c)\n",
    "\n",
    "Ez = np.zeros(Nx)\n",
    "Hy = np.zeros(Nx)\n",
    "\n",
    "source_position = Nx // 3"
   ]
  },
  {
   "cell_type": "code",
   "execution_count": null,
   "id": "bc45a78d-b07c-4ad4-afef-1f4339b3e7da",
   "metadata": {},
   "outputs": [],
   "source": [
    "# Cell 6: Demo B – initialize plot\n",
    "fig_fdtd, ax_fdtd = plt.subplots()\n",
    "lineE_fdtd, = ax_fdtd.plot(Ez, label=\"Ez\")\n",
    "lineH_fdtd, = ax_fdtd.plot(Hy, label=\"Hy\", linestyle=\"--\")\n",
    "ax_fdtd.set_ylim(-1.2, 1.2)\n",
    "ax_fdtd.set_xlim(0, Nx)\n",
    "ax_fdtd.set_xlabel(\"Grid index\")\n",
    "ax_fdtd.set_ylabel(\"Field\")\n",
    "ax_fdtd.legend()"
   ]
  },
  {
   "cell_type": "code",
   "execution_count": null,
   "id": "71b20b6b-1672-4bd5-a138-d7c246141035",
   "metadata": {},
   "outputs": [],
   "source": [
    "# Cell 7: Demo B – time‐stepping + animation\n",
    "def update_fdtd(n, Ez, Hy, source_pos, dt, dx):\n",
    "    for i in range(Nx - 1):\n",
    "        Hy[i] += (dt/dx)*(Ez[i+1] - Ez[i])\n",
    "    for i in range(1, Nx):\n",
    "        Ez[i] += (dt/dx)*(Hy[i] - Hy[i-1])\n",
    "    Ez[source_pos] += np.sin(2 * np.pi * 0.02 * n)\n",
    "    lineE_fdtd.set_ydata(Ez)\n",
    "    lineH_fdtd.set_ydata(Hy)\n",
    "    return lineE_fdtd, lineH_fdtd\n",
    "\n",
    "ani_fdtd = FuncAnimation(\n",
    "    fig_fdtd,\n",
    "    update_fdtd,\n",
    "    fargs=(Ez, Hy, source_position, dt, dx),\n",
    "    frames=500,\n",
    "    interval=20\n",
    ")\n",
    "ani_fdtd"
   ]
  },
  {
   "cell_type": "code",
   "execution_count": null,
   "id": "6c461eae-f6e7-48a4-8288-cf3ed29c2f95",
   "metadata": {},
   "outputs": [],
   "source": [
    "# Cell 8: Demo C – scalar wave through an E/B‐field “barrier”\n",
    "def run_barrier_wave(E_amp=1.0, B_amp=0.5, center=5.0, width=1.0):\n",
    "    L = 10\n",
    "    Np = 200\n",
    "    x = np.linspace(0, L, Np)\n",
    "    dx = x[1] - x[0]\n",
    "\n",
    "    E_profile = E_amp * np.exp(-((x - center)**2)/(2*width**2))\n",
    "    B_profile = B_amp * np.exp(-((x - center)**2)/(2*width**2))\n",
    "    v = 1.0 / (1.0 + E_profile + B_profile)\n",
    "\n",
    "    dt_local = 0.5 * dx / np.max(v)\n",
    "    phi = np.exp(-((x - 2.0)**2)/(2*0.2**2))\n",
    "    phi_old = phi.copy()\n",
    "\n",
    "    frames = []\n",
    "    for n in range(300):\n",
    "        phi_new = np.zeros_like(phi)\n",
    "        cfl2 = (dt_local/dx)**2\n",
    "        for i in range(1, Np-1):\n",
    "            phi_new[i] = (\n",
    "                2*phi[i] - phi_old[i]\n",
    "                + cfl2 * v[i]**2 * (phi[i+1] - 2*phi[i] + phi[i-1])\n",
    "            )\n",
    "        phi_new[0] = phi_new[-1] = 0\n",
    "        phi_old, phi = phi, phi_new\n",
    "        if n % 2 == 0:\n",
    "            frames.append(phi.copy())\n",
    "\n",
    "    fig, ax = plt.subplots()\n",
    "    line, = ax.plot(x, frames[0])\n",
    "    ax.set_ylim(-1.0, 1.0)\n",
    "    ax.set_xlabel(\"x\")\n",
    "    ax.set_ylabel(\"φ(x,t)\")\n",
    "    ax.set_title(\"Scalar wave through E/B‐field barrier\")\n",
    "\n",
    "    def animate(i):\n",
    "        line.set_ydata(frames[i])\n",
    "        return (line,)\n",
    "\n",
    "    ani = FuncAnimation(fig, animate, frames=len(frames), interval=50)\n",
    "    return ani"
   ]
  },
  {
   "cell_type": "code",
   "execution_count": null,
   "id": "37365264-fc97-49ea-9d35-676b62ce54e0",
   "metadata": {},
   "outputs": [],
   "source": [
    "# Cell 9: Sliders for Demo C\n",
    "interact(\n",
    "    run_barrier_wave,\n",
    "    E_amp=FloatSlider(min=0.0, max=5.0, step=0.1, value=1.0, description=\"E_amp\"),\n",
    "    B_amp=FloatSlider(min=0.0, max=5.0, step=0.1, value=0.5, description=\"B_amp\"),\n",
    "    center=FloatSlider(min=0.0, max=10.0, step=0.1, value=5.0, description=\"Center\"),\n",
    "    width=FloatSlider(min=0.1, max=3.0, step=0.1, value=1.0, description=\"Width\")\n",
    ")"
   ]
  },
  {
   "cell_type": "code",
   "execution_count": null,
   "id": "6b3cc155-c4aa-45bb-a54c-3dbe461b3668",
   "metadata": {},
   "outputs": [],
   "source": []
  }
 ],
 "metadata": {
  "kernelspec": {
   "display_name": "Python 3 (ipykernel)",
   "language": "python",
   "name": "python3"
  },
  "language_info": {
   "codemirror_mode": {
    "name": "ipython",
    "version": 3
   },
   "file_extension": ".py",
   "mimetype": "text/x-python",
   "name": "python",
   "nbconvert_exporter": "python",
   "pygments_lexer": "ipython3",
   "version": "3.10.16"
  }
 },
 "nbformat": 4,
 "nbformat_minor": 5
}
