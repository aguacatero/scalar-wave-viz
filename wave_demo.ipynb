# Cell 1: Imports
import numpy as np
import matplotlib.pyplot as plt
from matplotlib.animation import FuncAnimation
from ipywidgets import interact, FloatSlider

# Cell 2: Demo A – Scalar‑wave with Sliders
def run_wave(E0=1.0, B0=0.5, phase_offset=np.pi/2):
    # Spatial & wave parameters
    x = np.linspace(0, 10, 500)
    k = 2 * np.pi / 10
    ω = 2 * np.pi / 5

    # Set up figure
    fig, ax = plt.subplots()
    lineE, = ax.plot(x, E0 * np.cos(k*x), label="E‑field")
    lineB, = ax.plot(x, B0 * np.cos(k*x + phase_offset),
                     linestyle="--", label="B‑field")
    ax.set_ylim(-1.5, 1.5)
    ax.set_xlabel("x")
    ax.set_ylabel("Amplitude")
    ax.legend()

    # Animation update
    def update(frame):
        t = frame / 20.0
        lineE.set_ydata(E0 * np.cos(k*x - ω*t))
        lineB.set_ydata(B0 * np.cos(k*x - ω*t + phase_offset))
        return lineE, lineB

    ani = FuncAnimation(fig, update, frames=200, interval=50)
    plt.show()

    # Cell 3: Sliders to control Demo A
interact(
    run_wave,
    E0=FloatSlider(min=0.0, max=2.0, step=0.1, value=1.0, description="E0"),
    B0=FloatSlider(min=0.0, max=2.0, step=0.1, value=0.5, description="B0"),
    phase_offset=FloatSlider(min=0, max=2*np.pi, step=0.1,
                             value=np.pi/2, description="Phase")
)

# Cell 4: Demo B – 1D FDTD Maxwell Solver setup
# Grid parameters
Nx = 300
dx = 1.0
c  = 1.0
dt = dx / (2 * c)

# Field arrays
Ez = np.zeros(Nx)
Hy = np.zeros(Nx)

# Source position
source_position = Nx // 3

# Cell 5: Initialize plot for FDTD
fig_fdtd, ax_fdtd = plt.subplots()
lineE_fdtd, = ax_fdtd.plot(Ez, label="Ez")
lineH_fdtd, = ax_fdtd.plot(Hy, label="Hy", linestyle="--")
ax_fdtd.set_ylim(-1.2, 1.2)
ax_fdtd.set_xlim(0, Nx)
ax_fdtd.set_xlabel("Grid index")
ax_fdtd.set_ylabel("Field")
ax_fdtd.legend()

# Cell 6: FDTD update and animation
def update_fdtd(n, Ez, Hy, source_pos, dt, dx):
    # Update magnetic field Hy
    for i in range(Nx - 1):
        Hy[i] += (dt / dx) * (Ez[i+1] - Ez[i])
    # Update electric field Ez
    for i in range(1, Nx):
        Ez[i] += (dt / dx) * (Hy[i] - Hy[i-1])
    # Sinusoidal source injection
    Ez[source_pos] += np.sin(2 * np.pi * 0.02 * n)

    lineE_fdtd.set_ydata(Ez)
    lineH_fdtd.set_ydata(Hy)
    return lineE_fdtd, lineH_fdtd

ani_fdtd = FuncAnimation(
    fig_fdtd,
    update_fdtd,
    fargs=(Ez, Hy, source_position, dt, dx),
    frames=500,
    interval=20
)
plt.show()